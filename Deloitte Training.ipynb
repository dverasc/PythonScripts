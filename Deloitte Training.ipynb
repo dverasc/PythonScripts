{
 "cells": [
  {
   "cell_type": "markdown",
   "metadata": {},
   "source": [
    "Exercise 1-1"
   ]
  },
  {
   "cell_type": "code",
   "execution_count": null,
   "metadata": {},
   "outputs": [],
   "source": [
    "temp_text = input(\"Enter temperature in Celsius: \")\n",
    "temp_number = float(temp_text)\n",
    "fahtemp = ((temp_number * 9)/5) + 32\n",
    "print(\"Your temperature in F is: \")\n",
    "print (fahtemp)\n"
   ]
  },
  {
   "cell_type": "code",
   "execution_count": null,
   "metadata": {},
   "outputs": [],
   "source": [
    "import sys\n",
    "print(sys.argv)\n",
    "print()\n",
    "name = sys.argv[1]\n",
    "print(\"temp is\", name)\n"
   ]
  },
  {
   "cell_type": "markdown",
   "metadata": {},
   "source": [
    "Exercise 1-3"
   ]
  },
  {
   "cell_type": "code",
   "execution_count": null,
   "metadata": {},
   "outputs": [],
   "source": [
    "fullname = input(\"Please enter your full name: \")\n",
    "fullnamestring = fullname.title()\n",
    "count = fullname.count('j')\n",
    "post = fullname.find('john')\n",
    "print(fullname)\n",
    "print(fullname.capitalize())\n",
    "print(fullnamestring)\n",
    "print(count)\n",
    "print(len(fullname)- 1)\n",
    "print(post)"
   ]
  },
  {
   "cell_type": "markdown",
   "metadata": {},
   "source": [
    "Exercise 2-1"
   ]
  },
  {
   "cell_type": "code",
   "execution_count": null,
   "metadata": {},
   "outputs": [],
   "source": [
    "while True:\n",
    "    temp_text = input(\"Enter temperature in Celsius or q to quit:\")\n",
    "    if (temp_text.isdigit()):\n",
    "        temp_number = float(temp_text)\n",
    "        fahtemp = ((temp_number * 9)/5) + 32\n",
    "        print(\"Your temperature in F is: \")\n",
    "        print (fahtemp)\n",
    "    elif temp_text == \"\":\n",
    "        continue\n",
    "    elif temp_text == \"q\":\n",
    "        break\n",
    "    \n",
    "\n",
    "\n",
    "   \n",
    "    \n",
    "    "
   ]
  },
  {
   "cell_type": "markdown",
   "metadata": {},
   "source": [
    "Exercise 2-2"
   ]
  },
  {
   "cell_type": "code",
   "execution_count": null,
   "metadata": {},
   "outputs": [],
   "source": [
    "MAXVAL = 26\n",
    "MINVAL = 0\n",
    "\n",
    "while True:\n",
    "    guess = (MAXVAL + MINVAL)/2\n",
    "    print(\"Is this your number?: \", guess) \n",
    "    answer = input(\"Type in y if correct, h if its too high, or l if its too low\")\n",
    "    if answer == \"y\":\n",
    "        print(\"I win, you lose\")\n",
    "        break\n",
    "    if answer == \"h\":\n",
    "        MAXVAL = guess\n",
    "    if answer == \"l\":\n",
    "        MINVAL = guess\n",
    "        \n",
    "    "
   ]
  },
  {
   "cell_type": "markdown",
   "metadata": {},
   "source": [
    "Exercise 2-3"
   ]
  },
  {
   "cell_type": "code",
   "execution_count": null,
   "metadata": {},
   "outputs": [],
   "source": [
    "import sys\n",
    "\n",
    "max_value = 26\n",
    "if len(sys.argv) > 1:\n",
    "    max_value = int(sys.argv[1]) + 1\n",
    "\n",
    "min_value = 0\n",
    "tries = 0\n",
    "\n",
    "while True:\n",
    "    guess = (max_value + min_value) // 2\n",
    "    answer = input(\"Is {} your number? \".format(guess))\n",
    "\n",
    "    if answer == \"q\":\n",
    "        break\n",
    "\n",
    "    tries = tries + 1\n",
    "\n",
    "    if answer == \"h\":\n",
    "        max_value = guess\n",
    "    elif answer == \"l\":\n",
    "        min_value = guess\n",
    "    elif answer == \"y\":\n",
    "        print(\"I got it in {} try(ies)!\".format(tries))\n",
    "        break\n",
    "    else:\n",
    "        print(\"Please enter h, l, or y\")"
   ]
  },
  {
   "cell_type": "markdown",
   "metadata": {},
   "source": [
    "Exercise 3-1"
   ]
  },
  {
   "cell_type": "code",
   "execution_count": null,
   "metadata": {},
   "outputs": [],
   "source": [
    "squares = 32\n",
    "result = list(map(lambda x: 2 ** x, range(squares)))\n",
    "print(result)"
   ]
  },
  {
   "cell_type": "markdown",
   "metadata": {},
   "source": [
    "Exercise 3-2 (My Solution)"
   ]
  },
  {
   "cell_type": "code",
   "execution_count": null,
   "metadata": {},
   "outputs": [],
   "source": [
    "ctemps = [-40, 0, 37, 75, 100]\n",
    "fahtemp = [((ctemps[0] * 9)/5) + 32,((ctemps[1] * 9)/5) + 32,((ctemps[2] * 9)/5) + 32,((ctemps[3] * 9)/5) + 32,((ctemps[4] * 9)/5) + 32]\n",
    "bothtemps= {ctemps[0]:fahtemp[0], ctemps[1]: fahtemp[1], ctemps[2]: fahtemp[2], ctemps[3]: fahtemp[3], ctemps[4]: fahtemp[4]}\n",
    "print (bothtemps)\n",
    "    "
   ]
  },
  {
   "cell_type": "markdown",
   "metadata": {},
   "source": [
    "Exercise 3-3 "
   ]
  },
  {
   "cell_type": "code",
   "execution_count": null,
   "metadata": {},
   "outputs": [],
   "source": [
    "fruits = [\n",
    "    '    MANGO', 'Apple', '   peach   ', 'PLUM   ', '  Apricot',\n",
    "    'BaNaNa', 'Persimmon   '\n",
    "]\n",
    "\n",
    "cleanfruits = [x.lower() for x in fruits]\n",
    "cleanerfruits = [x.replace(\" \",\"\") for x in cleanfruits]\n",
    "print(cleanerfruits)"
   ]
  },
  {
   "cell_type": "markdown",
   "metadata": {},
   "source": [
    "Exercise 4-1\n"
   ]
  },
  {
   "cell_type": "code",
   "execution_count": null,
   "metadata": {},
   "outputs": [],
   "source": [
    "import sys\n",
    "\n",
    "for file_name in sys.argv[1:]:\n",
    "    with open(file_name) as file_in:\n",
    "        for i, line in enumerate(file_in, 1):\n",
    "            print(\"{:4d}: {}\".format(i, line), end='')"
   ]
  },
  {
   "cell_type": "code",
   "execution_count": null,
   "metadata": {},
   "outputs": [],
   "source": [
    "with open(\"../DATA/alt.txt\") as alt_in:\n",
    "    with open(\"a.txt\", \"w\") as a_out:\n",
    "        with open(\"b.txt\", \"w\") as b_out:\n",
    "            for line in alt_in:\n",
    "                if line.startswith('a'):\n",
    "                    a_out.write(line)\n",
    "                else:\n",
    "                    b_out.write(line)\n"
   ]
  },
  {
   "cell_type": "markdown",
   "metadata": {},
   "source": [
    "Exercise 5-1: Open file, read content into dictionary, print out student grades and then average overall class grade"
   ]
  },
  {
   "cell_type": "code",
   "execution_count": null,
   "metadata": {},
   "outputs": [],
   "source": [
    "scores_by_student = {}\n",
    "sum_of_scores = 0.0\n",
    "\n",
    "with open(r\"C:\\Users\\dveras\\Downloads\\py3newhire\\DATA\\testscores.dat\") as scores_in:\n",
    "\n",
    "    for line in scores_in:\n",
    "        (name, score) = line.split(\":\")\n",
    "        score = int(score)\n",
    "        scores_by_student[name] = score\n",
    "        sum_of_scores += score\n",
    "\n",
    "for student, score in sorted(scores_by_student.items()):\n",
    "    if score > 94:\n",
    "        grade = 'A'\n",
    "    elif score > 88:\n",
    "        grade = 'B'\n",
    "    elif score > 82:\n",
    "        grade = 'C'\n",
    "    elif score > 74:\n",
    "        grade = 'D'\n",
    "    else:\n",
    "        grade = 'F'\n",
    "\n",
    "    print(\"{:<20s} {} {}\".format(student, score, grade))\n",
    "\n",
    "average = sum_of_scores/len(scores_by_student)\n",
    "print(\"\\naverage score is  {:.2f}\\n\".format(average))"
   ]
  },
  {
   "cell_type": "markdown",
   "metadata": {},
   "source": [
    "Exercise 5-2: Open file, split lines, and then count amount of instances"
   ]
  },
  {
   "cell_type": "code",
   "execution_count": null,
   "metadata": {},
   "outputs": [],
   "source": [
    "shell_users = {}\n",
    "\n",
    "with open(r\"C:\\Users\\dveras\\Downloads\\py3newhire\\DATA\\passwd\") as f:\n",
    "    \n",
    "    for line in f:\n",
    "        (a,b,c,d,e,f, shell) = line.split(\":\")\n",
    "        \n",
    "        if shell == \"\":\n",
    "            shell = \"NONE\"\n",
    "            \n",
    "        if shell in shell_users:\n",
    "            shell_users[shell] = shell_users[shell] + 1\n",
    "        else:\n",
    "            shell_users[shell] = 1\n",
    "            \n",
    "for shell, count in shell_users.items():\n",
    "    print(\"{:5d} {}\".format(count, shell))\n",
    "\n",
    "    "
   ]
  },
  {
   "cell_type": "markdown",
   "metadata": {},
   "source": [
    "Exercise 5-3: Open two different fies, compare contents, print the ones that are in both (comments show you how to create new file)"
   ]
  },
  {
   "cell_type": "code",
   "execution_count": null,
   "metadata": {
    "scrolled": true
   },
   "outputs": [],
   "source": [
    "with open(r\"C:\\Users\\dveras\\Downloads\\py3newhire\\DATA\\fruit1.txt\", 'r') as file1:\n",
    "    with open(r\"C:\\Users\\dveras\\Downloads\\py3newhire\\DATA\\fruit2.txt\", 'r') as file2:\n",
    "        same = set(file1).intersection(file2)\n",
    "        print(same)\n",
    "\n",
    "#with open(r\"C:\\Users\\dveras\\Downloads\\py3newhire\\DATA\\common.txt\", 'w') as file_out:\n",
    "   # for line in same:\n",
    "    #    file_out.write(line)"
   ]
  },
  {
   "cell_type": "code",
   "execution_count": null,
   "metadata": {},
   "outputs": [],
   "source": [
    "from datetime import date\n",
    "\n",
    "def mkdate(raw_date):\n",
    "    if raw_date != \"NONE\":\n",
    "        raw_year, raw_month, raw_day = raw_date.split('-')\n",
    "        d = date(int(raw_year), int(raw_month), int(raw_day))\n",
    "    else:\n",
    "        d = None\n",
    "\n",
    "    return d\n",
    "\n",
    "def get_info(index):\n",
    "    pres_data = {}\n",
    "    with open(\"../DATA/presidents.txt\") as pres_in:\n",
    "        for line in pres_in:\n",
    "            flds = line[:-1].split(\":\")\n",
    "            if int(flds[0]) == index:\n",
    "                pres_data[\"lastname\"] = flds[1]\n",
    "                pres_data[\"firstname\"] = flds[2]\n",
    "\n",
    "                pres_data[\"birthdate\"] = mkdate(flds[3])\n",
    "                pres_data[\"deathdate\"] = mkdate(flds[4])\n",
    "\n",
    "                pres_data[\"birthplace\"] = flds[5]\n",
    "                pres_data[\"birthstate\"] = flds[6]\n",
    "\n",
    "                pres_data[\"termstart\"] = mkdate(flds[7])\n",
    "                pres_data[\"termend\"] = mkdate(flds[8])\n",
    "\n",
    "                pres_data[\"party\"] = flds[9]\n",
    "\n",
    "                break\n",
    "\n",
    "    return pres_data\n",
    "\n",
    "def get_all_data():\n",
    "    all_data = []\n",
    "    for i in range(1, 44):\n",
    "        all_data.append(get_info(i))\n",
    "    return all_data\n",
    "\n",
    "\n",
    "from potus import get_info\n",
    "\n",
    "for i in range(1, 46):\n",
    "    print('PRESIDENT {}:'.format(i))\n",
    "    for field, value in get_info(i).items():\n",
    "        print(field, value)\n",
    "    print()"
   ]
  },
  {
   "cell_type": "markdown",
   "metadata": {},
   "source": [
    "Exercise 8-1: Rewriting temp converter to include error handling"
   ]
  },
  {
   "cell_type": "code",
   "execution_count": null,
   "metadata": {},
   "outputs": [],
   "source": [
    "try:\n",
    "    temp_str = input(\"Enter Celsius temp: \")\n",
    "    celsius = float(temp_str)\n",
    "    fahrenheit = ((9 * celsius) / 5) + 32\n",
    "    print(\"{:.1f} C is {:.1f} F\".format(celsius, fahrenheit))\n",
    "\n",
    "except Exception as err:\n",
    "    print(\"Naughty programmer! Here's your error: \", err)\n",
    "\n"
   ]
  },
  {
   "cell_type": "markdown",
   "metadata": {},
   "source": [
    "Exercise 8-2: Including exception that is specific to the error (ValueError)"
   ]
  },
  {
   "cell_type": "code",
   "execution_count": null,
   "metadata": {},
   "outputs": [],
   "source": [
    "try:\n",
    "    import sys\n",
    "    celsius = float(sys.argv[1])\n",
    "    fahrenheit = ((9 * celsius) / 5) + 32\n",
    "    print(\"{:.1f} C is {:.1f} F\".format(celsius, fahrenheit))\n",
    "\n",
    "except ValueError as err:\n",
    "    print(\"No that is a value error, look at this: \", err)\n"
   ]
  },
  {
   "cell_type": "markdown",
   "metadata": {},
   "source": [
    "Exercise 9-1: Take in user input (filename) and print out date modified"
   ]
  },
  {
   "cell_type": "code",
   "execution_count": null,
   "metadata": {},
   "outputs": [],
   "source": [
    "import os, time\n",
    "from stat import * # ST_SIZE etc\n",
    "\n",
    "try:\n",
    "    file = input(\"please enter file name with path: \")\n",
    "    st = os.stat(file)\n",
    "except IOError:\n",
    "    print (\"failed to get information about: \", file)\n",
    "else:\n",
    "    print (\"file size:\", st[ST_SIZE])\n",
    "    print (\"file modified:\", time.asctime(time.localtime(st[ST_MTIME])))"
   ]
  },
  {
   "cell_type": "markdown",
   "metadata": {},
   "source": [
    "Exercise 9-2: Take in multiple user input and print out file size"
   ]
  },
  {
   "cell_type": "code",
   "execution_count": null,
   "metadata": {},
   "outputs": [],
   "source": [
    "try:\n",
    "    import os\n",
    "    file1 = input(\"please enter first file name with path: \")\n",
    "    file2 = input(\"please enter second file name with path: \")\n",
    "    info1 = os.stat(file1)\n",
    "    info2 = os.stat(file2)\n",
    "    print(info1)\n",
    "    print(info2)\n",
    "    print('size of 1 is: ', info1[6])\n",
    "    print('size of 1 is: ', info1.st_size)\n",
    "    print('size of 2 is: ', info2[6])\n",
    "    print('size of 2 is: ', info2.st_size)\n",
    "except Exception as err:\n",
    "    print(\"Naughty programmer! Here's your error: \", err)\n",
    "    "
   ]
  },
  {
   "cell_type": "markdown",
   "metadata": {},
   "source": [
    "Exercise 8-2: Teacher's Solution"
   ]
  },
  {
   "cell_type": "code",
   "execution_count": null,
   "metadata": {},
   "outputs": [],
   "source": [
    "import sys\n",
    "import os.path\n",
    "\n",
    "for f in sys.argv[1:]:\n",
    "    if os.path.isdir(f):\n",
    "        print(\"{} is a directory\".format(f))\n",
    "        continue\n",
    "    else:\n",
    "        print(f,os.path.getsize(f))"
   ]
  },
  {
   "cell_type": "markdown",
   "metadata": {},
   "source": [
    "Exercise 10-1: Open file, take students and their scores, sort by scores (highest is top so it is descending)"
   ]
  },
  {
   "cell_type": "code",
   "execution_count": null,
   "metadata": {},
   "outputs": [],
   "source": [
    "scores = {}\n",
    "total_of_scores = 0\n",
    "\n",
    "with open(r\"C:\\Users\\dveras\\Downloads\\py3newhire\\DATA\\testscores.dat\") as f:\n",
    "    for line in f:\n",
    "        (name, score) = line.split(\":\")\n",
    "        score = int(score)\n",
    "        scores[name] = score\n",
    "        total_of_scores += score\n",
    "\n",
    "for student, score in sorted(scores.items(), key=lambda e: (e[1]),\n",
    "                             reverse=True):\n",
    "    grade = None\n",
    "    if score > 94:\n",
    "        grade = 'A'\n",
    "    elif score > 88:\n",
    "        grade = 'B'\n",
    "    elif score > 82:\n",
    "        grade = 'C'\n",
    "    elif score > 74:\n",
    "        grade = 'D'\n",
    "    else:\n",
    "        grade = 'F'\n",
    "    print(\"{:<20s} {:2d} {}\".format(student, score, grade))\n",
    "\n",
    "average = total_of_scores / len(scores)\n",
    "print(\"\\naverage score is  {:.2f}\\n\".format(average))\n"
   ]
  },
  {
   "cell_type": "markdown",
   "metadata": {},
   "source": [
    "Exercise 10-2: Open file, read, if the word starts with a then create new file and add it to it, if the word starts with b then create another new file and add it to it"
   ]
  },
  {
   "cell_type": "code",
   "execution_count": null,
   "metadata": {},
   "outputs": [],
   "source": [
    "a_lines = []\n",
    "b_lines = []\n",
    "\n",
    "try:\n",
    "    \n",
    "    with open(r\"C:\\Users\\dveras\\Downloads\\py3newhire\\DATA\\alt.txt\", 'r') as file1:\n",
    "        for x in file1:\n",
    "            if x.startswith(\"a\"):\n",
    "                a_lines.append(x)\n",
    "            elif x.startswith(\"b\"):\n",
    "                b_lines.append(x)\n",
    "    with open(r\"C:\\Users\\dveras\\Downloads\\py3newhire\\DATA\\a.txt\", 'w') as filea:\n",
    "        filea.writelines(sorted(a_lines))\n",
    "    \n",
    "    with open(r\"C:\\Users\\dveras\\Downloads\\py3newhire\\DATA\\b.txt\", 'w') as fileb:\n",
    "        fileb.writelines(sorted(b_lines))\n",
    "                    \n",
    "        \n",
    "            \n",
    "except Exception as err:\n",
    "    print(\"Naughty programmer! Here's your error: \", err)"
   ]
  },
  {
   "cell_type": "markdown",
   "metadata": {},
   "source": [
    "Exercise 10-3: Open file, read contents, sort by different rules then print out"
   ]
  },
  {
   "cell_type": "code",
   "execution_count": null,
   "metadata": {},
   "outputs": [],
   "source": [
    "with open(r\"C:\\Users\\dveras\\Downloads\\py3newhire\\DATA\\fruit.txt\", 'r') as file_handle:\n",
    "            fruit_lines = file_handle.readlines()\n",
    "\n",
    "print(\"\".join(sorted(fruit_lines)))\n",
    "print(\"\".join(sorted(fruit_lines, key=str.lower)))\n",
    "print(\"\".join(sorted(fruit_lines, key=lambda s: (len(s), s.lower()))))\n",
    "print(\"\".join(sorted(fruit_lines, key=lambda s: (s[1].lower(), s[0].lower()))))\n",
    "\n",
    "\n",
    "\n",
    "\n",
    "\n",
    "\n",
    "\n",
    "\n",
    "#with open(\"../DATA/fruit.txt\", \"r\") as F:\n",
    "#    fruit_lines = F.readlines()\n",
    "\n",
    "#print(\"\".join(sorted(fruit_lines)))\n",
    "#print()\n",
    "\n",
    "#print(\"\".join(sorted(fruit_lines, key=str.lower)))\n",
    "#print()\n",
    "\n",
    "#print(\"\".join(sorted(fruit_lines, key=lambda s: (len(s), s.lower()))))\n",
    "#print()\n",
    "\n",
    "#print(\"\".join(sorted(fruit_lines, key=lambda s: (s[1].lower(), s[0].lower()))))\n",
    "#print()\n"
   ]
  },
  {
   "cell_type": "markdown",
   "metadata": {},
   "source": [
    "Exercise 10-4: Open file, split fields, print out pres first name,last name, and state sorted by the lastname then firstanme\n",
    "    My solution"
   ]
  },
  {
   "cell_type": "code",
   "execution_count": null,
   "metadata": {},
   "outputs": [],
   "source": [
    "with open(r\"C:\\Users\\dveras\\Downloads\\py3newhire\\DATA\\presidents.txt\", 'r') as file_handle:\n",
    "    for line in file_handle:\n",
    "        filelines = line.split(\":\")\n",
    "        firstname = filelines[1]\n",
    "        lastname =filelines[2]\n",
    "        state = filelines[6]\n",
    "        combo =(firstname,lastname,state)\n",
    "        combolist = list(combo)\n",
    "        sorted_by_second = sorted(combolist, key=lambda tup: tup[0])\n",
    "        print(sorted_by_second)\n",
    "        "
   ]
  },
  {
   "cell_type": "markdown",
   "metadata": {},
   "source": [
    "Exercise 10-4: Open file, split fields, print out pres first name,last name, and state sorted by the lastname then firstanme\n",
    "    Teacher solution"
   ]
  },
  {
   "cell_type": "code",
   "execution_count": null,
   "metadata": {},
   "outputs": [],
   "source": [
    "all_pres = []\n",
    "with open(r\"C:\\Users\\dveras\\Downloads\\py3newhire\\DATA\\presidents.txt\", 'r') as PRES:\n",
    "\n",
    "    for line in PRES:\n",
    "        fields = line.rstrip('\\n\\r').split(\":\")\n",
    "        all_pres.append(fields) # add list of fields\n",
    "\n",
    "# sort by lname, fname\n",
    "for fields in sorted(all_pres, key=lambda e: (e[1], e[2])):\n",
    "    print(fields[2], fields[1], fields[6])"
   ]
  },
  {
   "cell_type": "markdown",
   "metadata": {},
   "source": [
    "Exercise 11-1"
   ]
  },
  {
   "cell_type": "code",
   "execution_count": null,
   "metadata": {},
   "outputs": [],
   "source": [
    "import re\n",
    "\n",
    "s = input(\"Enter filename\")\n",
    "\n",
    "pattern = r'[A-Z]\\d{2,3}'  # <1>\n",
    "\n",
    "if re.search(pattern, s):  # <2>\n",
    "    print(\"Found pattern.\")\n",
    "print()\n",
    "\n",
    "m = re.search(pattern, s)  # <3>\n",
    "print(m)\n",
    "if m:\n",
    "    print(\"Found:\", m.group(0))  # <4>\n",
    "print()\n",
    "\n",
    "for m in re.finditer(pattern, s):  # <5>\n",
    "    print(m.group())\n",
    "print()\n",
    "\n",
    "matches = re.findall(pattern, s)  # <6>\n",
    "print(\"matches:\", matches)"
   ]
  },
  {
   "cell_type": "markdown",
   "metadata": {},
   "source": [
    "Exercise 11-2: Copy contents of one file to new file, if word has more than 8 letters we surround it with asterisks"
   ]
  },
  {
   "cell_type": "code",
   "execution_count": null,
   "metadata": {},
   "outputs": [],
   "source": [
    "import re\n",
    "#create pattern to find words with 8 or more\n",
    "rx_longword = re.compile(r\"\\b[a-z]{8,}\\b\", re.I)\n",
    "\n",
    "#if the word has 8 or more letters we add asterisks around it\n",
    "def mark_word(m):\n",
    "    return '**' + m.group() + '**'\n",
    "\n",
    "#open og file, copy contents, add asterisks, write new one\n",
    "with open(r\"C:\\Users\\dveras\\Downloads\\py3newhire\\DATA\\parrot.txt\" , \"r\") as p_in:\n",
    "    with open(r\"C:\\Users\\dveras\\Downloads\\py3newhire\\DATA\\bigwords.txt\" , \"w\") as p_out:\n",
    "        for line in p_in:\n",
    "            new_line = rx_longword.sub(mark_word, line)\n",
    "            p_out.write(new_line)"
   ]
  },
  {
   "cell_type": "markdown",
   "metadata": {},
   "source": [
    "Exercise 11-3: Open file, find entries with phone numbers, print only those"
   ]
  },
  {
   "cell_type": "code",
   "execution_count": null,
   "metadata": {},
   "outputs": [],
   "source": [
    "import re\n",
    "\n",
    "rx_phonenumber = re.compile(r\"\\b\\d{3}-\\d{4}\\b\")\n",
    "\n",
    "with open(r\"C:\\Users\\dveras\\Downloads\\py3newhire\\DATA\\custinfo.dat\" , \"r\") as p_in:\n",
    "    for x in p_in:\n",
    "        if rx_phonenumber.search(x):\n",
    "            print(x, end='')\n",
    "\n"
   ]
  },
  {
   "cell_type": "code",
   "execution_count": null,
   "metadata": {},
   "outputs": [],
   "source": [
    "Exercise 11-4: Read file, separate lines to word using regex pattern, normalize to lowercase, include frequency of word use"
   ]
  },
  {
   "cell_type": "code",
   "execution_count": null,
   "metadata": {},
   "outputs": [],
   "source": [
    "import sys\n",
    "import re\n",
    "\n",
    "rx_unc = re.compile(r\"[^\\w']+\")\n",
    "for file_name in sys.argv[1:]:\n",
    "    with open(r\"C:\\Users\\dveras\\Downloads\\py3newhire\\DATA\\presidents.txt\") as file_in:\n",
    "        found = {}\n",
    "        for line in file_in:\n",
    "            words = rx_unc.split(line)\n",
    "            for word in words:\n",
    "                if word == '' or word == \"'\":\n",
    "                    continue\n",
    "                word = word.lower()\n",
    "                found[word] = found.get(word, 0) + 1\n",
    "\n",
    "    for word, count in sorted(found.items()):\n",
    "        print(\"{:<16s} {:4d}\".format(word, count))\n"
   ]
  },
  {
   "cell_type": "markdown",
   "metadata": {},
   "source": [
    "Exercise 12-1: Create a new XML file containing all the words that start with 'x' from words.txt. "
   ]
  },
  {
   "cell_type": "code",
   "execution_count": null,
   "metadata": {},
   "outputs": [],
   "source": [
    "import xml.etree.ElementTree as ET\n",
    "\n",
    "words = open(r\"C:\\Users\\dveras\\Downloads\\py3newhire\\DATA\\words.txt\")\n",
    "xwords = [word.rstrip() for word in words if word.startswith('x')]\n",
    "words.close()\n",
    "\n",
    "root = ET.Element('words')\n",
    "\n",
    "for word in xwords:\n",
    "    ET.SubElement(root, 'word').text = word\n",
    "\n",
    "tree = ET.ElementTree(root)\n",
    "tree.write(r\"C:\\Users\\dveras\\Downloads\\py3newhire\\DATA\\xwords.xml\")\n",
    "\n"
   ]
  },
  {
   "cell_type": "markdown",
   "metadata": {},
   "source": [
    "Exercise 12-2: Use ElementTree parse presidents.xml. Loop and print out each president’s first and last names and their state of birth."
   ]
  },
  {
   "cell_type": "code",
   "execution_count": null,
   "metadata": {},
   "outputs": [],
   "source": [
    "try:\n",
    "    from xml.etree import ElementTree as ET\n",
    "    presroot = ET.parse(r'C:\\Users\\dveras\\Downloads\\py3newhire\\DATA\\presidents.xml')\n",
    "    for pres in presroot.findall(\"president\"):\n",
    "        name = pres.findtext('name/last') + ', ' + pres.findtext('name/first')\n",
    "        state = pres.findtext('birthstate')\n",
    "        print('{0:40s} {1:30s}'.format(name, state))\n",
    "except Exception as err:\n",
    "    print(\"Naughty programmer! Here's your error: \", err)"
   ]
  },
  {
   "cell_type": "code",
   "execution_count": null,
   "metadata": {},
   "outputs": [],
   "source": [
    "Exercise 12-3: Rewrite xpresidents.py to parse presidents.json using the json module.\n"
   ]
  },
  {
   "cell_type": "code",
   "execution_count": null,
   "metadata": {},
   "outputs": [],
   "source": [
    "try:\n",
    "    import json\n",
    "    with open(r'C:\\Users\\dveras\\Downloads\\py3newhire\\DATA\\presidents.json') as PRES:\n",
    "        p = json.load(PRES)\n",
    "        \n",
    "        for pres in p['presidents']:\n",
    "            name = pres['lname'] + ', ' + pres['fname']\n",
    "            state = pres['birthstate']\n",
    "            print('{0:40s} {1:30s}'.format(name, state))\n",
    "        \n",
    "except Exception as err:\n",
    "    print(\"Naughty programmer! Here's your error: \", err)"
   ]
  },
  {
   "cell_type": "markdown",
   "metadata": {},
   "source": [
    "Exercise 12-4: Rewrite first couple exercises to parse csv file instead of json"
   ]
  },
  {
   "cell_type": "code",
   "execution_count": null,
   "metadata": {},
   "outputs": [],
   "source": [
    "try:\n",
    "    import csv\n",
    "    with open(r'C:\\Users\\dveras\\Downloads\\py3newhire\\DATA\\presidents.csv') as PRES:\n",
    "        p = csv.reader(PRES)\n",
    "        for row in p:\n",
    "           print('{:25s} {:12s} {}'.format(row[1],row[2], row[-1]))\n",
    "\n",
    "except Exception as err:\n",
    "    print(\"Naughty programmer! Here's your error: \", err)\n"
   ]
  },
  {
   "cell_type": "markdown",
   "metadata": {},
   "source": [
    "Exercise 15-1: Create a DataFrame columns named 'Test1', 'Test2', up to 'Test6'\n",
    "    Fill the DataFrame with random values.\n",
    "    Print only columns 'Test3' and 'Test5'\n",
    "    Print the dataframe with every value multiplied by 3.6"
   ]
  },
  {
   "cell_type": "code",
   "execution_count": null,
   "metadata": {},
   "outputs": [],
   "source": [
    "import numpy as np\n",
    "import pandas as pd\n",
    "df = pd.DataFrame(np.random.randint(0,100,size=(10, 6)), columns=['Test 1','Test 2','Test 3', 'Test 4','Test 5','Test 6'])\n",
    "print(df[['Test 3', 'Test 5']])\n",
    "print(df * 3.6)"
   ]
  },
  {
   "cell_type": "markdown",
   "metadata": {},
   "source": [
    "Exercise 15-2: Create DataFrame from file and select only content with shannondiversity score equal to or above 1.0"
   ]
  },
  {
   "cell_type": "code",
   "execution_count": null,
   "metadata": {},
   "outputs": [],
   "source": [
    "import pandas as pd\n",
    "import numpy as np\n",
    "dp = pd.read_csv(r'C:\\Users\\dveras\\Downloads\\py3newhire\\DATA\\parasite_data.csv')\n",
    "df = pd.DataFrame(dp)\n",
    "lowdiv = df[df['ShannonDiversity' ]>= 1.0]\n",
    "print(lowdiv)\n",
    "print(lowdiv.values)"
   ]
  },
  {
   "cell_type": "code",
   "execution_count": null,
   "metadata": {},
   "outputs": [],
   "source": []
  }
 ],
 "metadata": {
  "kernelspec": {
   "display_name": "Python 3",
   "language": "python",
   "name": "python3"
  },
  "language_info": {
   "codemirror_mode": {
    "name": "ipython",
    "version": 3
   },
   "file_extension": ".py",
   "mimetype": "text/x-python",
   "name": "python",
   "nbconvert_exporter": "python",
   "pygments_lexer": "ipython3",
   "version": "3.7.3"
  }
 },
 "nbformat": 4,
 "nbformat_minor": 2
}
